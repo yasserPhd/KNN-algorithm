{
 "cells": [
  {
   "cell_type": "code",
   "execution_count": 31,
   "id": "23ebe3df",
   "metadata": {},
   "outputs": [
    {
     "data": {
      "image/png": "[encoded data removed]",
      "text/plain": [
       "<Figure size 432x288 with 1 Axes>"
      ]
     },
     "metadata": {
      "needs_background": "light"
     },
     "output_type": "display_data"
    }
   ],
   "source": [
    "import numpy as np\n",
    "import random as rd\n",
    "from math import sqrt\n",
    "import matplotlib.pyplot as plt\n",
    "\n",
    "# retourne la distance maximale avec x dans la liste \n",
    "def maxDistance(list,x):\n",
    "    maxD=distance(list[0],x)\n",
    "    for elem in list:\n",
    "        if distance(elem,x)> maxD:\n",
    "            maxD=distance(elem,x)\n",
    "    return maxD\n",
    "# cette fonction permet de retourner l'indice d'element qui a la distance maximale avec x\n",
    "\n",
    "def get_index_max_dis_L(list,x):\n",
    "    max_j=0\n",
    "    for j in range(len(list)):\n",
    "        if distance(list[j],x)> distance(list[max_j],x):\n",
    "            max_j=j\n",
    "    return max_j\n",
    "\n",
    "def distance (a, b):\n",
    "    \"\"\"Distance euclidienne entre deux points (espace à deux dimensions)\n",
    "\n",
    "    Un point est représenté par un couple de valeurs flottantes.\n",
    "    \n",
    "    \"\"\"    \n",
    "    distance = sqrt( (b[0]-a[0])**2 + (b[1]-a[1])**2 )\n",
    "    return distance\n",
    "\n",
    "\n",
    "#def affiche(x, a, n , k_voisins ):\n",
    "    \"\"\"Affichage en deux dimensions : d'un point x, et d'un nuage de points à partir d'une liste a de n points.\n",
    "\n",
    "    Un point est représenté par un couple de valeurs flottantes.\n",
    "    x et ses voisins sont en bleu, les autres points sont en gris.\n",
    "    Exemple d'utilisation de la librairie matplotlib.\n",
    "    \n",
    "    \"\"\"\n",
    "def affiche(x,a,proche_v,n):\n",
    "    \n",
    "    # Création des deux tableaux (axe x et y) pour affichage des points de a (tableaux numpy)\n",
    "    a=np.array(a)\n",
    "    X,Y=zip(*a)\n",
    "    # Création des deux tableaux (axe x et y) pour affichage des points de k_voisins (tableaux numpy)\n",
    "    proche_v=np.array(proche_v)\n",
    "    Xk,Yk=zip(*proche_v)\n",
    "    \n",
    "    # Initialisation des propriétés de l'affichage\n",
    "    ...\n",
    "    \n",
    "# Affichage\n",
    "\n",
    "    fig,ax = plt.subplots()\n",
    "    plt.scatter(X,Y,label = \"autres\",c=\"grey\")\n",
    "    plt.scatter(Xk,Yk, label = \"proche_voisin\")\n",
    "    plt.scatter(x[0],x[1],label = \"cible\",c=\"red\")\n",
    "    plt.legend(loc=\"upper right\")\n",
    "    #calcul du diametre du cercle en fonction de la plus grande distance de X\n",
    "    maxD=maxDistance(proche_v,x)   \n",
    "# Ajout d'un cercle (ou d'une ellipse)\n",
    "    ax.add_artist(plt.Circle(x, maxD, edgecolor='b', facecolor='none'))#Circle(centre, rayon): Circle((6, 15), 4)\n",
    "    plt.show()\n",
    "    \n",
    "    ...\n",
    "    \n",
    "def cherche_k_voisins(k, x, a, n):\n",
    "    \"\"\"Recherche des k plus proches voisins d'un point x, dans une collection a de n éléments.\n",
    "\n",
    "    a est une liste.\n",
    "    n et k sont des entiers tels que : 1 <= k < n.\n",
    "    On considère que chaque élément représente un point d'un espace euclidien à deux dimensions.\n",
    "    Un point est représenté par un couple de valeurs flottantes.\n",
    "\n",
    "    \"\"\"\n",
    "    proches_voisins = [] #initialisation de la liste\n",
    "    # pour i allant de 1 à k\n",
    "    for i in range(k):\n",
    "    # mettre le point A[i] dans proches_voisins\n",
    "        proches_voisins.append(a[i])\n",
    "    # pour i allant de k+1 à n\n",
    "    for i in range(k,n):\n",
    "#     si la distance entre A[i] et x est inférieure à la distance d'un des points de proches_voisins à x\n",
    "\n",
    "            if distance(a[i],x) < maxDistance(proches_voisins,x) and a[i] not in proches_voisins:\n",
    "                jm=get_index_max_dis_L(proches_voisins,x)\n",
    "                del proches_voisins[jm]\n",
    "                proches_voisins.append(a[i])\n",
    "    return  proches_voisins \n",
    "\n",
    "    \n",
    "#la generation des valeurs de a et x aleatoirement\n",
    "n=200\n",
    "a = [(rd.uniform(0,0.9), rd.uniform(0,0.9)) for i in range(n)]\n",
    "x =(rd.uniform(0,0.9), rd.uniform(0,0.9))\n",
    "k = 10\n",
    "#appel des methodes chercher_k_voisins et affichafe\n",
    "if k < n:\n",
    "    proche_v = cherche_k_voisins(k, x, a, n)\n",
    "    affiche(x,a,proche_v,n)\n",
    "else:\n",
    "    print(\"k doit etre inferieur à n\")"
   ]
  },
  {
   "cell_type": "code",
   "execution_count": null,
   "id": "46b2d31a",
   "metadata": {},
   "outputs": [],
   "source": []
  },
  {
   "cell_type": "code",
   "execution_count": null,
   "id": "06d62977",
   "metadata": {},
   "outputs": [],
   "source": []
  },
  {
   "cell_type": "code",
   "execution_count": null,
   "id": "b3194ebf",
   "metadata": {},
   "outputs": [],
   "source": []
  },
  {
   "cell_type": "code",
   "execution_count": null,
   "id": "8cc8adad",
   "metadata": {},
   "outputs": [],
   "source": [
    "\n"
   ]
  },
  {
   "cell_type": "code",
   "execution_count": null,
   "id": "4abff0f1",
   "metadata": {},
   "outputs": [],
   "source": []
  },
  {
   "cell_type": "code",
   "execution_count": null,
   "id": "23257d78",
   "metadata": {},
   "outputs": [],
   "source": []
  },
  {
   "cell_type": "code",
   "execution_count": null,
   "id": "f5b1b8e3",
   "metadata": {},
   "outputs": [],
   "source": []
  }
 ],
 "metadata": {
  "kernelspec": {
   "display_name": "Python 3",
   "language": "python",
   "name": "python3"
  },
  "language_info": {
   "codemirror_mode": {
    "name": "ipython",
    "version": 3
   },
   "file_extension": ".py",
   "mimetype": "text/x-python",
   "name": "python",
   "nbconvert_exporter": "python",
   "pygments_lexer": "ipython3",
   "version": "3.8.8"
  }
 },
 "nbformat": 4,
 "nbformat_minor": 5
}
